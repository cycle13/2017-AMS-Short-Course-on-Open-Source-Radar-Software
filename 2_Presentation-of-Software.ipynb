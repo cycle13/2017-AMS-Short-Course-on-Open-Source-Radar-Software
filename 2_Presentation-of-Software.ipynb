{
 "cells": [
  {
   "cell_type": "markdown",
   "metadata": {
    "slideshow": {
     "slide_type": "slide"
    }
   },
   "source": [
    "## PRESENTATION OF THE SOFTWARE\n",
    "##### 9:15 AM"
   ]
  },
  {
   "cell_type": "markdown",
   "metadata": {
    "slideshow": {
     "slide_type": "notes"
    }
   },
   "source": [
    "Stuff"
   ]
  },
  {
   "cell_type": "markdown",
   "metadata": {
    "slideshow": {
     "slide_type": "fragment"
    }
   },
   "source": [
    "\n",
    "### A _very_ Brief History\n",
    "* The first workshop of this type took place at [ERAD 2014](http://www.pa.op.dlr.de/erad2014/workshops/overview.html)\n",
    "* Open Radar Shortcoure at [37th AMS Radar](https://www.ametsoc.org/ams/index.cfm/meetings-events/ams-meetings/open-source-radar-short-course/)\n",
    "* AMS Annual [Radar Data in the Cloud](https://annual.ametsoc.org/2017/index.cfm/programs/short-courses-and-workshops/interacting-with-radar-data-in-the-cloud1/)\n",
    "* Open Radar Shortcourse v2.0 at [38th AMS Radar](https://www.ametsoc.org/ams/index.cfm/meetings-events/ams-meetings/38th-conference-on-radar-meteorology/short-courses/ams-short-course-open-source-radar/)\n"
   ]
  },
  {
   "cell_type": "markdown",
   "metadata": {
    "slideshow": {
     "slide_type": "slide"
    }
   },
   "source": [
    "### Course Objectives "
   ]
  },
  {
   "cell_type": "markdown",
   "metadata": {
    "slideshow": {
     "slide_type": "fragment"
    }
   },
   "source": [
    "- To give a familiarity with Python and the Scientific Python ecosystem and IPython and project Jupyter"
   ]
  },
  {
   "cell_type": "markdown",
   "metadata": {
    "slideshow": {
     "slide_type": "fragment"
    }
   },
   "source": [
    "- To introduce the Python ARM Radar Toolkit and reveal the data model used"
   ]
  },
  {
   "cell_type": "markdown",
   "metadata": {
    "slideshow": {
     "slide_type": "fragment"
    }
   },
   "source": [
    "- To show how to plot a variety of different radar data with Py-ART"
   ]
  },
  {
   "cell_type": "markdown",
   "metadata": {
    "slideshow": {
     "slide_type": "fragment"
    }
   },
   "source": [
    "- Demonstrate how to add a field so you can do processing on your own data"
   ]
  },
  {
   "cell_type": "markdown",
   "metadata": {
    "slideshow": {
     "slide_type": "fragment"
    }
   },
   "source": [
    "- Introduce you to several tools in Py-ART including texture retrieval, dealiasing and gridding"
   ]
  },
  {
   "cell_type": "markdown",
   "metadata": {
    "slideshow": {
     "slide_type": "slide"
    }
   },
   "source": [
    "### Schedule"
   ]
  },
  {
   "cell_type": "markdown",
   "metadata": {
    "slideshow": {
     "slide_type": "fragment"
    }
   },
   "source": [
    "- Time estimates are roughly adhered\n",
    "- The design is purposefully dynamic. It can and will grow, expand, have error corrections, etc."
   ]
  },
  {
   "cell_type": "markdown",
   "metadata": {
    "slideshow": {
     "slide_type": "slide"
    }
   },
   "source": [
    "9:15 A.M.\tPRESENTATION OF THE SOFTWARE. Nick Guy, The Climate Corporation, Seattle, WA\n",
    "\t \n",
    "9:45 A.M.\t\tAN INTRODUCTION TO PYTHON. Robert Jackson, ANL, Argonne, IL\n",
    "\n",
    "10:00 A.M.\t \tCOFFEE BREAK "
   ]
  },
  {
   "cell_type": "markdown",
   "metadata": {
    "slideshow": {
     "slide_type": "fragment"
    }
   },
   "source": [
    "10:15 A.M.\tCOMMUNITY SOFTWARE DEVELOPMENTS.  Daniel Michelson, Environment and Climate Change Canada, Toronto, Canada\n",
    "\n",
    "10:45 A.M.\tRADAR PROCESSING AND VISUALIZATION USING PY-ART.  Robert Jackson, ANL, Argonne, IL and Nick Guy, The Climate Corporation, Seattle, WA\n",
    "\n",
    "12:00 P.M.\t\tSHORT COURSE LUNCHEON (included)."
   ]
  },
  {
   "cell_type": "markdown",
   "metadata": {
    "slideshow": {
     "slide_type": "slide"
    }
   },
   "source": [
    "\n",
    "1:30 P.M.\tDEVELOPMENT OF ARTVIEW, A MODULAR GRAPHICAL USER INTERFACE FOR RADAR DATA. Anderson L. Gama, Stuttgart University, Stuttgart, Germany\n",
    "\n",
    "2:30 P.M.\tBALTRAD, DATA PROCESSING FUNDAMENTALS. Daniel Michelson, Environment and Climate Change Canada, Toronto, Canada \n",
    "\n",
    "3:00 P.M.\t\tCOFFEE BREAK "
   ]
  },
  {
   "cell_type": "markdown",
   "metadata": {
    "slideshow": {
     "slide_type": "fragment"
    }
   },
   "source": [
    "3:15 P.M.\tBALTRAD, INTEROPERABILITY PROOF-OF-CONCEPTS: BALTRAD TO Py-ART AND BALTRAD TO wradlib. Daniel Michelson, Environment and Climate Change Canada, Toronto, Canada \n",
    "\n",
    "4:00 P.M.\tLROSE OVERVIEW. Michael Bell, Colorado State University, Fort Collins CO \n",
    "\n",
    "4:15 P.M.\tWRAP UP AND FURTHER DISCUSSION.\n",
    "\n",
    "5:00 P.M    Adjourn"
   ]
  },
  {
   "cell_type": "markdown",
   "metadata": {
    "collapsed": true,
    "slideshow": {
     "slide_type": "slide"
    }
   },
   "source": [
    "### Resources"
   ]
  },
  {
   "cell_type": "markdown",
   "metadata": {
    "collapsed": true,
    "slideshow": {
     "slide_type": "fragment"
    }
   },
   "source": [
    "- Data is at: <a href=\"http://figshare.com/articles/Data_for_AMS_Short_Course_on_Open_Source_Radar_Software/1537461\"> This figshare repository</a>\n",
    "\n",
    "DO WE HAVE DATA STORED ANYWHERE??"
   ]
  },
  {
   "cell_type": "markdown",
   "metadata": {
    "slideshow": {
     "slide_type": "fragment"
    }
   },
   "source": [
    "- Materials live in <a href=\"https://github.com/openradar/2017-AMS-Short-Course-on-Open-Source-Radar-Software\">This GitHub Repository</a>"
   ]
  },
  {
   "cell_type": "markdown",
   "metadata": {
    "collapsed": true,
    "slideshow": {
     "slide_type": "fragment"
    }
   },
   "source": [
    "- There are a couple of main points of access to the Open Source Radar Community (though there very probably more)\n",
    "  - A [Community Wiki](http://theradarcommunity.wikidot.com/) with links to projects\n",
    "  - A [Repository](https://github.com/openradar) of code and course material"
   ]
  },
  {
   "cell_type": "code",
   "execution_count": null,
   "metadata": {
    "collapsed": true
   },
   "outputs": [],
   "source": []
  }
 ],
 "metadata": {
  "celltoolbar": "Slideshow",
  "kernelspec": {
   "display_name": "Python 2",
   "language": "python",
   "name": "python2"
  },
  "language_info": {
   "codemirror_mode": {
    "name": "ipython",
    "version": 2
   },
   "file_extension": ".py",
   "mimetype": "text/x-python",
   "name": "python",
   "nbconvert_exporter": "python",
   "pygments_lexer": "ipython2",
   "version": "2.7.12"
  }
 },
 "nbformat": 4,
 "nbformat_minor": 0
}
