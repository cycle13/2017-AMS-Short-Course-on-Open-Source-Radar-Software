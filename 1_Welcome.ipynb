{
 "cells": [
  {
   "cell_type": "markdown",
   "metadata": {
    "slideshow": {
     "slide_type": "slide"
    }
   },
   "source": [
    "# <span class=\"hgviolet\">Welcome to the AMS Short Course on Open Source Radar Software</span>\n",
    "#### 38th AMS Conference on Radar Meteorology - Chicago, IL"
   ]
  },
  {
   "cell_type": "markdown",
   "metadata": {
    "slideshow": {
     "slide_type": "notes"
    }
   },
   "source": [
    "Stuff"
   ]
  },
  {
   "cell_type": "markdown",
   "metadata": {
    "slideshow": {
     "slide_type": "fragment"
    }
   },
   "source": [
    "\n",
    "### Organizers and Contributors\n",
    "- Anderson Gama, Stuttgart University\n",
    "- Nick Guy, The Climate Corporation\n",
    "- Daniel Michelson, Environment and Climate Change Canada\n",
    "- Scott Collis, Argonne National Laboratory\n",
    "- Michael Bell, Colorado State University\n",
    "- Robert Jackson, Argonne National Laboratory\n",
    "- Gökhan Sever, Argonne National Laboratory\n",
    "\n",
    "<div>\n",
    "    <img class=\"logo\" src=\"./images/python-logo.png\" height=\"100\" width=\"250\" align=\"left\"/>\n",
    "<img class=\"logo\" src=\"./images/ams.jpg\" height=\"150\" align='center'/>\n",
    "</div>\n"
   ]
  },
  {
   "cell_type": "markdown",
   "metadata": {
    "slideshow": {
     "slide_type": "fragment"
    }
   },
   "source": [
    "### Sponsor\n",
    "Very Special thanks to NumFocus for sponsorship of this short course!\n",
    "<br>\n",
    "<div>\n",
    "    <img class=\"logo\" src=\"./images/numfocus_logo.png\" height=\"150\", width=\"250\", align=\"center\"/>\n",
    "</div>"
   ]
  },
  {
   "cell_type": "markdown",
   "metadata": {
    "slideshow": {
     "slide_type": "slide"
    }
   },
   "source": [
    "#What Is Open Source?\n"
   ]
  },
  {
   "cell_type": "markdown",
   "metadata": {
    "slideshow": {
     "slide_type": "fragment"
    }
   },
   "source": [
    "###\"Free software is a matter of liberty, not price. To understand the concept, you should think of free as in free speech, not as in free beer.\"\n",
    "  #####—Richard Stallman\n",
    "<img src='./images/freebeer.png'> \n",
    "######<h5><a href=\"https://commons.wikimedia.org/wiki/File:Isummit_2008,_Japan,_free_beer_crop.png#/media/File:Isummit_2008,_Japan,_free_beer_crop.png\">Isummit 2008, Japan, free beer crop</a>\" by shaddim - <a class=\"external free\" href=\"https://commons.wikimedia.org/wiki/File:Isummit_2008,_Japan,_free_beer.jpg\">https://commons.wikimedia.org/wiki/File:Isummit_2008,_Japan,_free_beer.jpg</a>. Licensed under <a title=\"Creative Commons Attribution-Share Alike 2.5\" href=\"http://creativecommons.org/licenses/by-sa/2.5\">CC BY-SA 2.5</a> via <a href=\"https://commons.wikimedia.org/wiki/\">Commons</a></h5>"
   ]
  },
  {
   "cell_type": "markdown",
   "metadata": {
    "slideshow": {
     "slide_type": "slide"
    }
   },
   "source": [
    "## Course Objectives "
   ]
  },
  {
   "cell_type": "markdown",
   "metadata": {
    "slideshow": {
     "slide_type": "fragment"
    }
   },
   "source": [
    "- Provide familiarity with Python and the Scientific Python ecosystem using project Jupyter"
   ]
  },
  {
   "cell_type": "markdown",
   "metadata": {
    "slideshow": {
     "slide_type": "fragment"
    }
   },
   "source": [
    "- Introduce various Open Source projects\n",
    "  - Py-ARt\n",
    "  - ARTView\n",
    "  - BALTRAD\n",
    "  - Wradlib"
   ]
  },
  {
   "cell_type": "markdown",
   "metadata": {
    "slideshow": {
     "slide_type": "fragment"
    }
   },
   "source": [
    "- Demonstrate how to work with these tools"
   ]
  },
  {
   "cell_type": "markdown",
   "metadata": {
    "slideshow": {
     "slide_type": "fragment"
    }
   },
   "source": [
    "- Demonstrate how to add a field so you can do processing on your own data"
   ]
  },
  {
   "cell_type": "markdown",
   "metadata": {
    "slideshow": {
     "slide_type": "fragment"
    }
   },
   "source": [
    "- Discuss where this ecosystem is headed"
   ]
  },
  {
   "cell_type": "code",
   "execution_count": null,
   "metadata": {
    "collapsed": true
   },
   "outputs": [],
   "source": []
  }
 ],
 "metadata": {
  "celltoolbar": "Slideshow",
  "kernelspec": {
   "display_name": "Python 2",
   "language": "python",
   "name": "python2"
  },
  "language_info": {
   "codemirror_mode": {
    "name": "ipython",
    "version": 2
   },
   "file_extension": ".py",
   "mimetype": "text/x-python",
   "name": "python",
   "nbconvert_exporter": "python",
   "pygments_lexer": "ipython2",
   "version": "2.7.12"
  }
 },
 "nbformat": 4,
 "nbformat_minor": 0
}
