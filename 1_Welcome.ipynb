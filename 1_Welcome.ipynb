{
 "cells": [
  {
   "cell_type": "markdown",
   "metadata": {
    "slideshow": {
     "slide_type": "slide"
    }
   },
   "source": [
    "# <span class=\"hgviolet\">Welcome to the AMS Short Course on Open Source Radar Software</span>\n",
    "#### 38th AMS Conference on Radar Meteorology - Chicago, IL"
   ]
  },
  {
   "cell_type": "markdown",
   "metadata": {
    "slideshow": {
     "slide_type": "fragment"
    }
   },
   "source": [
    "# Instructors #\n",
    "\n",
    "\n",
    "### ARTview Developers: ###\n",
    "- Anderson Luis Gama, University of Stuttgart\n",
    "- Nick Guy, The Climate Corporation\n",
    "\n",
    "### Project Manager of BALTRAD: ###\n",
    "- Daniel Michelson, Environment and Climate Change Canada\n",
    "\n",
    "### Py-ART Developers: ###\n",
    "- Scott M Collis, Argonne National Laboratory\n",
    "- Robert Jackson, Argonne National Laboratory\n",
    "\n",
    "### LROSE Developer: ### \n",
    "- Michael Bell, Colorado State University\n",
    "\n",
    "\n",
    "<div>\n",
    "    <img class=\"logo\" src=\"./images/python-logo.png\" height=\"100\" width=\"250\" align=\"left\"/>\n",
    "    <img class=\"logo\" src=\"./images/arm_logo.png\" height=\"100\" width=\"250\" align=\"right\"/>\n",
    "</div>\n",
    "<img class=\"logo\" src=\"./images/ams.jpg\" height=\"150\" align='center'/>\n",
    "<div>\n",
    "<img class=\"logo\" src=\"./images/artview-logo.png\" height=\"100\" width=\"160\" align=\"left\"/>\n",
    "<img class=\"logo\" src=\"./images/BALTRAD-logo.png\" height=\"100\" width=\"250\" align=\"right\"/>\n",
    "</div>\n",
    "<img class=\"logo\" src=\"./images/LROSE_logo.png\"  height=\"50\" width=\"125\"  align='center'/>"
   ]
  },
  {
   "cell_type": "markdown",
   "metadata": {},
   "source": [
    "### Sponsor\n",
    "Very Special thanks to NumFocus for sponsorship of this short course!\n",
    "<br>\n",
    "<div>\n",
    "    <img class=\"logo\" src=\"./images/numfocus_logo.png\" height=\"150\", width=\"250\", align=\"center\"/>\n",
    "</div>"
   ]
  },
  {
   "cell_type": "markdown",
   "metadata": {
    "slideshow": {
     "slide_type": "slide"
    }
   },
   "source": [
    "# What Is Open Source?\n"
   ]
  },
  {
   "cell_type": "markdown",
   "metadata": {
    "slideshow": {
     "slide_type": "fragment"
    }
   },
   "source": [
    "### \"Free software is a matter of liberty, not price. To understand the concept, you should think of free as in free speech, not as in free beer.\"\n",
    "  ##### —Richard Stallman\n",
    "<img src='./images/freebeer.png'> \n",
    "###### <h5><a href=\"https://commons.wikimedia.org/wiki/File:Isummit_2008,_Japan,_free_beer_crop.png#/media/File:Isummit_2008,_Japan,_free_beer_crop.png\">Isummit 2008, Japan, free beer crop</a>\" by shaddim - <a class=\"external free\" href=\"https://commons.wikimedia.org/wiki/File:Isummit_2008,_Japan,_free_beer.jpg\">https://commons.wikimedia.org/wiki/File:Isummit_2008,_Japan,_free_beer.jpg</a>. Licensed under <a title=\"Creative Commons Attribution-Share Alike 2.5\" href=\"http://creativecommons.org/licenses/by-sa/2.5\">CC BY-SA 2.5</a> via <a href=\"https://commons.wikimedia.org/wiki/\">Commons</a></h5>"
   ]
  },
  {
   "cell_type": "markdown",
   "metadata": {},
   "source": [
    "## Course Objectives \n",
    "\n",
    "- Provide familiarity with Python and the Scientific Python ecosystem using project Jupyter\n",
    "- Introduce various Open Source projects\n",
    "  - Py-ARt\n",
    "  - ARTview\n",
    "  - BALTRAD\n",
    "  - Wradlib\n",
    "- Demonstrate how to work with these tools\n",
    "- Demonstrate how to add a field so you can do processing on your own data\n",
    "- Discuss where this ecosystem is headed"
   ]
  },
  {
   "cell_type": "markdown",
   "metadata": {},
   "source": [
    "# Program\n",
    "\n",
    "- Time estimates are roughly adhered\n",
    "- The design is purposefully dynamic. It can and will grow, expand, have error corrections, etc."
   ]
  },
  {
   "cell_type": "markdown",
   "metadata": {
    "slideshow": {
     "slide_type": "slide"
    }
   },
   "source": [
    "8:30 a.m.\tINTRODUCTION\n",
    "<br>9:00 a.m.\tPRESENTATION OF THE SOFTWARES\tNick guy \n",
    "<br>9:30 a.m.\tINTRODUCTION TO PYTHON Robert Jackson\n",
    "<br>10:00 a.m.\tCOFFEE BREAK "
   ]
  },
  {
   "cell_type": "markdown",
   "metadata": {
    "slideshow": {
     "slide_type": "fragment"
    }
   },
   "source": [
    "10:15 a.m.\tCOMMUNITY SOFTWARE DEVELOPMENT BASICS Daniel Michelson\n",
    "<br>10:45 a.m.\tRADAR PROCESSING USING PY-ART Robert Jackson and Nick guy \n",
    "<br>12:00 a.m.\tLUNCH (included)"
   ]
  },
  {
   "cell_type": "markdown",
   "metadata": {
    "slideshow": {
     "slide_type": "slide"
    }
   },
   "source": [
    "1:30 p.m.\tRADAR VISUALIZATION USING ARTVIEW Anderson Gama\n",
    "<br>2:30 p.m.\tHANDS ON BALTRAD Daniel Michelson\n",
    "<br>3:00 p.m\tCOFFEE BREAK"
   ]
  },
  {
   "cell_type": "markdown",
   "metadata": {
    "slideshow": {
     "slide_type": "fragment"
    }
   },
   "source": [
    "3:15 p.m.\tHANDS ON BALTRAD (cont.) Daniel Michelson\n",
    "<br>4:00 p.m.\tLROSE OVERVIEW. Michael Bell\n",
    "<br>4:15 p.m.\tWRAP UP AND FUTHER DISCUSSION. ALL\n",
    "<br>5:00 p.m.\tAdjourn. "
   ]
  },
  {
   "cell_type": "code",
   "execution_count": null,
   "metadata": {
    "collapsed": true
   },
   "outputs": [],
   "source": []
  }
 ],
 "metadata": {
  "celltoolbar": "Slideshow",
  "kernelspec": {
   "display_name": "Python 3",
   "language": "python",
   "name": "python3"
  },
  "language_info": {
   "codemirror_mode": {
    "name": "ipython",
    "version": 3
   },
   "file_extension": ".py",
   "mimetype": "text/x-python",
   "name": "python",
   "nbconvert_exporter": "python",
   "pygments_lexer": "ipython3",
   "version": "3.5.3"
  }
 },
 "nbformat": 4,
 "nbformat_minor": 1
}
