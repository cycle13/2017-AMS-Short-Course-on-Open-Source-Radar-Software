{
 "cells": [
  {
   "cell_type": "markdown",
   "metadata": {},
   "source": [
    "## Visualizations with Py-ART"
   ]
  },
  {
   "cell_type": "markdown",
   "metadata": {},
   "source": [
    "First we'll import needed packages"
   ]
  },
  {
   "cell_type": "code",
   "execution_count": null,
   "metadata": {
    "collapsed": false
   },
   "outputs": [],
   "source": [
    "import pyart\n",
    "from matplotlib import pyplot as plt\n",
    "import numpy as np\n",
    "import os\n",
    "import s3fs\n",
    "from datetime import datetime as dt\n",
    "\n",
    "%matplotlib inline\n",
    "print(pyart.__version__)\n",
    "\n",
    "import warnings\n",
    "warnings.simplefilter(\"ignore\", category=DeprecationWarning)\n",
    "#warnings.simplefilter('ignore')"
   ]
  },
  {
   "cell_type": "code",
   "execution_count": null,
   "metadata": {
    "collapsed": true
   },
   "outputs": [],
   "source": [
    "def get_latest_file(radar_id, bucket='noaa-nexrad-level2', engine='s3fs'):\n",
    "    \"\"\"Return latest NEXRAD data file name.\"\"\"\n",
    "    s3conn = s3fs.S3FileSystem(anon=True)\n",
    "    latest_year = os.path.join(\n",
    "        bucket, os.path.basename(s3conn.ls(bucket)[-1]))\n",
    "    latest_month = os.path.join(\n",
    "        latest_year, os.path.basename(s3conn.ls(latest_year)[-1]))\n",
    "    latest_day = os.path.join(\n",
    "        latest_month, os.path.basename(s3conn.ls(latest_month)[-1]))\n",
    "    return s3conn.ls(os.path.join(latest_day, radar_id))[-1]"
   ]
  },
  {
   "cell_type": "markdown",
   "metadata": {},
   "source": [
    "### Py-ART Colormaps\n",
    "Retrieve the names of colormaps and the colormap list dictionary.\n",
    "\n",
    "The colormaps are registered with matplotlib and can be accessed by inserting `'pyart_'` in front of any name."
   ]
  },
  {
   "cell_type": "code",
   "execution_count": null,
   "metadata": {
    "collapsed": true
   },
   "outputs": [],
   "source": [
    "cm_names = pyart.graph.cm._cmapnames\n",
    "cms = pyart.graph.cm.cmap_d"
   ]
  },
  {
   "cell_type": "code",
   "execution_count": null,
   "metadata": {
    "collapsed": false
   },
   "outputs": [],
   "source": [
    "nrows = len(cm_names)\n",
    "gradient = np.linspace(0, 1, 256)\n",
    "gradient = np.vstack((gradient, gradient))\n",
    "\n",
    "# Create a figure and axes instance\n",
    "fig, axes = plt.subplots(nrows=nrows, figsize=(5,10))\n",
    "fig.subplots_adjust(top=0.95, bottom=0.01, left=0.2, right=0.99)\n",
    "axes[0].set_title('Py-Art Colormaps', fontsize=14)\n",
    "\n",
    "# Loop through the possibilities\n",
    "for nn, pymap in enumerate(cm_names):\n",
    "    axes[nn].imshow(gradient, aspect='auto', cmap=cms[pymap])\n",
    "    pos = list(axes[nn].get_position().bounds)\n",
    "    x_text = pos[0] - 0.01\n",
    "    y_text = pos[1] + pos[3]/2.\n",
    "    fig.text(x_text, y_text, pymap, va='center', ha='right', fontsize=8)\n",
    "\n",
    "# Turn off *all* ticks & spines, not just the ones with colormaps.\n",
    "for ax in axes:\n",
    "    ax.set_axis_off()"
   ]
  },
  {
   "cell_type": "markdown",
   "metadata": {},
   "source": [
    "### The RadarDisplay\n",
    "This is the most commonly used class designed for surface-based scanning radar"
   ]
  },
  {
   "cell_type": "code",
   "execution_count": null,
   "metadata": {
    "collapsed": true
   },
   "outputs": [],
   "source": [
    "### Plot a NEXRAD file"
   ]
  },
  {
   "cell_type": "code",
   "execution_count": null,
   "metadata": {
    "collapsed": false
   },
   "outputs": [],
   "source": [
    "nexf = \"data/KILN20140429_231254_V06\"\n",
    "nexr = pyart.io.read(nexf)\n",
    "nexd = pyart.graph.RadarDisplay(nexr)"
   ]
  },
  {
   "cell_type": "code",
   "execution_count": null,
   "metadata": {
    "collapsed": false
   },
   "outputs": [],
   "source": [
    "nexr.fields.keys()"
   ]
  },
  {
   "cell_type": "code",
   "execution_count": null,
   "metadata": {
    "collapsed": false
   },
   "outputs": [],
   "source": [
    "fig, ax = plt.subplots(nrows=2, ncols=2, figsize=(16, 12))\n",
    "nexd.plot('reflectivity', sweep=1, cmap='pyart_NWSRef', vmin=0., vmax=55., mask_outside=False, ax=ax[0, 0])\n",
    "nexd.plot_range_rings([50, 100], ax=ax[0, 0])\n",
    "nexd.set_limits((-150., 150.), (-150., 150.), ax=ax[0, 0])\n",
    "\n",
    "nexd.plot('velocity', sweep=1, cmap='pyart_NWSVel', vmin=-30, vmax=30., mask_outside=False, ax=ax[0, 1])\n",
    "nexd.plot_range_rings([50, 100], ax=ax[0, 1])\n",
    "nexd.set_limits((-150., 150.), (-150., 150.), ax=ax[0, 1])\n",
    "\n",
    "nexd.plot('cross_correlation_ratio', sweep=0, cmap='pyart_BrBu12', vmin=0.85, vmax=1., mask_outside=False, ax=ax[1, 0])\n",
    "nexd.plot_range_rings([50, 100], ax=ax[0, 1])\n",
    "nexd.set_limits((-150., 150.), (-150., 150.), ax=ax[0, 1])\n",
    "\n",
    "nexd.plot('differential_reflectivity', sweep=0, cmap='pyart_BuDOr12', vmin=-2, vmax=2., mask_outside=False, ax=ax[1, 1])\n",
    "nexd.plot_range_rings([50, 100], ax=ax[1, 1])\n",
    "nexd.set_limits((-150., 150.), (-150., 150.), ax=ax[1, 1])"
   ]
  },
  {
   "cell_type": "markdown",
   "metadata": {},
   "source": [
    "#### There are many keyword values we can employe to refine the plot\n",
    "Keywords exist for title, labels, colorbar, along with others.\n",
    "In addition, there are many methods that can be employed. For example, pull out a constructed RHI at a given azimuth."
   ]
  },
  {
   "cell_type": "code",
   "execution_count": null,
   "metadata": {
    "collapsed": false
   },
   "outputs": [],
   "source": [
    "nexd.plot_azimuth_to_rhi('reflectivity', 305., cmap='pyart_NWSRef', vmin=0., vmax=55.)\n",
    "nexd.set_limits((0., 150.), (0., 15.))"
   ]
  },
  {
   "cell_type": "markdown",
   "metadata": {},
   "source": [
    "### Py-ART RHI\n",
    "Not only can we construct an RHI from a PPI volume, but RHI scans may be plotted as well."
   ]
  },
  {
   "cell_type": "code",
   "execution_count": null,
   "metadata": {
    "collapsed": true
   },
   "outputs": [],
   "source": [
    "rhif = \"data/KILN20140429_231254_V06\"\n",
    "rhir = pyart.io.read(rhif)\n",
    "rhid = pyart.graph.RadarDisplay(rhir)"
   ]
  },
  {
   "cell_type": "code",
   "execution_count": null,
   "metadata": {
    "collapsed": false
   },
   "outputs": [],
   "source": [
    "rhid.plot_rhi('reflectivity', 0, vmin=-5.0, vmax=70,)"
   ]
  },
  {
   "cell_type": "markdown",
   "metadata": {},
   "source": [
    "### Py-ART RadarMapDisplay or RadarMapDisplayCartopy\n",
    "This converts the x-y coordinates to latitude and longitude overplotting on a map"
   ]
  },
  {
   "cell_type": "code",
   "execution_count": null,
   "metadata": {
    "collapsed": false
   },
   "outputs": [],
   "source": [
    "nexmap = pyart.graph.RadarMapDisplayCartopy(nexr)"
   ]
  },
  {
   "cell_type": "code",
   "execution_count": null,
   "metadata": {
    "collapsed": false
   },
   "outputs": [],
   "source": [
    "fig, ax = plt.subplots(1, 1, figsize=(7, 7))\n",
    "nexmap.plot_ppi_map('reflectivity', sweep=1, vmin=0., vmax=55., ax=ax)\n",
    "nexmap.ax.set_extent([-87., -82., 37., 42.])"
   ]
  },
  {
   "cell_type": "markdown",
   "metadata": {},
   "source": [
    "## Use what you have learned!\n",
    "\n",
    "Using all that you have learned, make a two panel plot of reflectivity and doppler velocity using the CPOL data file of an MCS over Darwin, Australia: data/Gunn_pt_20060120005000ppi.nc. Use Cartopy to overlay the plots on a map of Austrailia and play around with differing colormaps and axes limits! "
   ]
  },
  {
   "cell_type": "code",
   "execution_count": null,
   "metadata": {
    "collapsed": false
   },
   "outputs": [],
   "source": []
  },
  {
   "cell_type": "markdown",
   "metadata": {},
   "source": [
    "## Solution\n",
    "\n",
    "The following cell loads a solution to the above problem."
   ]
  },
  {
   "cell_type": "code",
   "execution_count": null,
   "metadata": {
    "collapsed": false
   },
   "outputs": [],
   "source": [
    "%load solution.py"
   ]
  },
  {
   "cell_type": "code",
   "execution_count": null,
   "metadata": {
    "collapsed": true
   },
   "outputs": [],
   "source": []
  }
 ],
 "metadata": {
  "anaconda-cloud": {},
  "kernelspec": {
   "display_name": "Python [default]",
   "language": "python",
   "name": "python3"
  },
  "language_info": {
   "codemirror_mode": {
    "name": "ipython",
    "version": 3
   },
   "file_extension": ".py",
   "mimetype": "text/x-python",
   "name": "python",
   "nbconvert_exporter": "python",
   "pygments_lexer": "ipython3",
   "version": "3.5.2"
  }
 },
 "nbformat": 4,
 "nbformat_minor": 0
}
