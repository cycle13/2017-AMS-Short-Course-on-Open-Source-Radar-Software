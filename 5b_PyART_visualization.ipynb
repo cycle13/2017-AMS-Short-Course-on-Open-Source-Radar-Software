{
 "cells": [
  {
   "cell_type": "markdown",
   "metadata": {},
   "source": [
    "## Visualizations with Py-ART"
   ]
  },
  {
   "cell_type": "markdown",
   "metadata": {},
   "source": [
    "First we'll import needed packages"
   ]
  },
  {
   "cell_type": "code",
   "execution_count": null,
   "metadata": {
    "collapsed": false
   },
   "outputs": [],
   "source": [
    "import pyart\n",
    "from matplotlib import pyplot as plt\n",
    "import numpy as np\n",
    "import os\n",
    "import s3fs\n",
    "from datetime import datetime as dt\n",
    "\n",
    "%matplotlib inline\n",
    "print(pyart.__version__)\n",
    "\n",
    "import warnings\n",
    "warnings.simplefilter(\"ignore\", category=DeprecationWarning)\n",
    "#warnings.simplefilter('ignore')"
   ]
  },
  {
   "cell_type": "code",
   "execution_count": null,
   "metadata": {
    "collapsed": true
   },
   "outputs": [],
   "source": [
    "def get_latest_file(radar_id, bucket='noaa-nexrad-level2', engine='s3fs'):\n",
    "    \"\"\"Return latest NEXRAD data file name.\"\"\"\n",
    "    s3conn = s3fs.S3FileSystem(anon=True)\n",
    "    latest_year = os.path.join(\n",
    "        bucket, os.path.basename(s3conn.ls(bucket)[-1]))\n",
    "    latest_month = os.path.join(\n",
    "        latest_year, os.path.basename(s3conn.ls(latest_year)[-1]))\n",
    "    latest_day = os.path.join(\n",
    "        latest_month, os.path.basename(s3conn.ls(latest_month)[-1]))\n",
    "    return s3conn.ls(os.path.join(latest_day, radar_id))[-1]"
   ]
  },
  {
   "cell_type": "markdown",
   "metadata": {},
   "source": [
    "### Py-ART Colormaps\n",
    "Retrieve the names of colormaps and the colormap list dictionary.\n",
    "\n",
    "The colormaps are registered with matplotlib and can be accessed by inserting `'pyart_'` in front of any name."
   ]
  },
  {
   "cell_type": "code",
   "execution_count": null,
   "metadata": {
    "collapsed": true
   },
   "outputs": [],
   "source": [
    "cm_names = pyart.graph.cm._cmapnames\n",
    "cms = pyart.graph.cm.cmap_d"
   ]
  },
  {
   "cell_type": "code",
   "execution_count": null,
   "metadata": {
    "collapsed": false
   },
   "outputs": [],
   "source": [
    "nrows = len(cm_names)\n",
    "gradient = np.linspace(0, 1, 256)\n",
    "gradient = np.vstack((gradient, gradient))\n",
    "\n",
    "# Create a figure and axes instance\n",
    "fig, axes = plt.subplots(nrows=nrows, figsize=(5,10))\n",
    "fig.subplots_adjust(top=0.95, bottom=0.01, left=0.2, right=0.99)\n",
    "axes[0].set_title('Py-Art Colormaps', fontsize=14)\n",
    "\n",
    "# Loop through the possibilities\n",
    "for nn, pymap in enumerate(cm_names):\n",
    "    axes[nn].imshow(gradient, aspect='auto', cmap=cms[pymap])\n",
    "    pos = list(axes[nn].get_position().bounds)\n",
    "    x_text = pos[0] - 0.01\n",
    "    y_text = pos[1] + pos[3]/2.\n",
    "    fig.text(x_text, y_text, pymap, va='center', ha='right', fontsize=8)\n",
    "\n",
    "# Turn off *all* ticks & spines, not just the ones with colormaps.\n",
    "for ax in axes:\n",
    "    ax.set_axis_off()"
   ]
  },
  {
   "cell_type": "markdown",
   "metadata": {},
   "source": [
    "### The RadarDisplay\n",
    "This is the most commonly used class designed for surface-based scanning radar"
   ]
  },
  {
   "cell_type": "code",
   "execution_count": null,
   "metadata": {
    "collapsed": true
   },
   "outputs": [],
   "source": [
    "### Plot a NEXRAD file"
   ]
  },
  {
   "cell_type": "code",
   "execution_count": null,
   "metadata": {
    "collapsed": false
   },
   "outputs": [],
   "source": [
    "nexf = \"data/KILN20140429_231254_V06\"\n",
    "nexr = pyart.io.read(nexf)\n",
    "nexd = pyart.graph.RadarDisplay(nexr)"
   ]
  },
  {
   "cell_type": "code",
   "execution_count": null,
   "metadata": {
    "collapsed": false
   },
   "outputs": [],
   "source": [
    "nexr.fields.keys()"
   ]
  },
  {
   "cell_type": "code",
   "execution_count": null,
   "metadata": {
    "collapsed": false
   },
   "outputs": [],
   "source": [
    "fig, ax = plt.subplots(nrows=2, ncols=2, figsize=(16, 12))\n",
    "nexd.plot('reflectivity', sweep=1, cmap='pyart_NWSRef', vmin=0., vmax=55., mask_outside=False, ax=ax[0, 0])\n",
    "nexd.plot_range_rings([50, 100], ax=ax[0, 0])\n",
    "nexd.set_limits((-150., 150.), (-150., 150.), ax=ax[0, 0])\n",
    "\n",
    "nexd.plot('velocity', sweep=1, cmap='pyart_NWSVel', vmin=-30, vmax=30., mask_outside=False, ax=ax[0, 1])\n",
    "nexd.plot_range_rings([50, 100], ax=ax[0, 1])\n",
    "nexd.set_limits((-150., 150.), (-150., 150.), ax=ax[0, 1])\n",
    "\n",
    "nexd.plot('cross_correlation_ratio', sweep=0, cmap='pyart_BrBu12', vmin=0.85, vmax=1., mask_outside=False, ax=ax[1, 0])\n",
    "nexd.plot_range_rings([50, 100], ax=ax[0, 1])\n",
    "nexd.set_limits((-150., 150.), (-150., 150.), ax=ax[0, 1])\n",
    "\n",
    "nexd.plot('differential_reflectivity', sweep=0, cmap='pyart_BuDOr12', vmin=-2, vmax=2., mask_outside=False, ax=ax[1, 1])\n",
    "nexd.plot_range_rings([50, 100], ax=ax[1, 1])\n",
    "nexd.set_limits((-150., 150.), (-150., 150.), ax=ax[1, 1])"
   ]
  },
  {
   "cell_type": "markdown",
   "metadata": {},
   "source": [
    "#### There are many keyword values we can employe to refine the plot\n",
    "Keywords exist for title, labels, colorbar, along with others.\n",
    "In addition, there are many methods that can be employed. For example, pull out a constructed RHI at a given azimuth."
   ]
  },
  {
   "cell_type": "code",
   "execution_count": null,
   "metadata": {
    "collapsed": false
   },
   "outputs": [],
   "source": [
    "nexd.plot_azimuth_to_rhi('reflectivity', 305., cmap='pyart_NWSRef', vmin=0., vmax=55.)\n",
    "nexd.set_limits((0., 150.), (0., 15.))"
   ]
  },
  {
   "cell_type": "markdown",
   "metadata": {},
   "source": [
    "### Py-ART RHI\n",
    "Not only can we construct an RHI from a PPI volume, but RHI scans may be plotted as well."
   ]
  },
  {
   "cell_type": "code",
   "execution_count": null,
   "metadata": {
    "collapsed": true
   },
   "outputs": [],
   "source": [
    "rhif = \"data/noxp_rhi_140610232635.RAWHJFH\"\n",
    "rhir = pyart.io.read(rhif)\n",
    "rhid = pyart.graph.RadarDisplay(rhir)"
   ]
  },
  {
   "cell_type": "code",
   "execution_count": null,
   "metadata": {
    "collapsed": false
   },
   "outputs": [],
   "source": [
    "rhid.plot_rhi('reflectivity', 0, vmin=-5.0, vmax=70,)"
   ]
  },
  {
   "cell_type": "markdown",
   "metadata": {},
   "source": [
    "### Py-ART RadarMapDisplay or RadarMapDisplayCartopy\n",
    "This converts the x-y coordinates to latitude and longitude overplotting on a map"
   ]
  },
  {
   "cell_type": "code",
   "execution_count": null,
   "metadata": {
    "collapsed": false
   },
   "outputs": [],
   "source": [
    "nexmap = pyart.graph.RadarMapDisplayCartopy(nexr)"
   ]
  },
  {
   "cell_type": "code",
   "execution_count": null,
   "metadata": {
    "collapsed": false
   },
   "outputs": [],
   "source": [
    "fig, ax = plt.subplots(1, 1, figsize=(7, 7))\n",
    "nexmap.plot_ppi_map('reflectivity', sweep=1, vmin=0., vmax=55., ax=ax)\n",
    "nexmap.ax.set_extent([-87., -82., 37., 42.])"
   ]
  },
  {
   "cell_type": "markdown",
   "metadata": {},
   "source": [
    "## Use what you have learned!\n",
    "\n",
    "Using all that you have learned, make a two panel plot of reflectivity and doppler velocity using the data file from an RHI of NOXP data/noxp_rhi_140610232635.RAWHJFH. Use Cartopy to overlay the plots on a map of Austrailia and play around with differing colormaps and axes limits! "
   ]
  },
  {
   "cell_type": "code",
   "execution_count": null,
   "metadata": {
    "collapsed": false
   },
   "outputs": [],
   "source": []
  },
  {
   "cell_type": "markdown",
   "metadata": {},
   "source": [
    "## Solution\n",
    "\n",
    "The following cell loads a solution to the above problem."
   ]
  },
  {
   "cell_type": "code",
   "execution_count": 16,
   "metadata": {
    "collapsed": false
   },
   "outputs": [
    {
     "ename": "FileNotFoundError",
     "evalue": "[Errno 2] No such file or directory: 'data/noxp_rhi_140610232635.RAWHJFH'",
     "output_type": "error",
     "traceback": [
      "\u001b[0;31m---------------------------------------------------------------------------\u001b[0m",
      "\u001b[0;31mFileNotFoundError\u001b[0m                         Traceback (most recent call last)",
      "\u001b[0;32m<ipython-input-16-6e4354caa21d>\u001b[0m in \u001b[0;36m<module>\u001b[0;34m()\u001b[0m\n\u001b[1;32m      1\u001b[0m \u001b[0;31m# %load solution.py\u001b[0m\u001b[0;34m\u001b[0m\u001b[0;34m\u001b[0m\u001b[0m\n\u001b[0;32m----> 2\u001b[0;31m \u001b[0mcpol_Radar\u001b[0m \u001b[0;34m=\u001b[0m \u001b[0mpyart\u001b[0m\u001b[0;34m.\u001b[0m\u001b[0mio\u001b[0m\u001b[0;34m.\u001b[0m\u001b[0mread\u001b[0m\u001b[0;34m(\u001b[0m\u001b[0;34m'data/noxp_rhi_140610232635.RAWHJFH'\u001b[0m\u001b[0;34m)\u001b[0m\u001b[0;34m\u001b[0m\u001b[0m\n\u001b[0m\u001b[1;32m      3\u001b[0m \u001b[0mcpol_map\u001b[0m \u001b[0;34m=\u001b[0m \u001b[0mpyart\u001b[0m\u001b[0;34m.\u001b[0m\u001b[0mgraph\u001b[0m\u001b[0;34m.\u001b[0m\u001b[0mRadarMapDisplayCartopy\u001b[0m\u001b[0;34m(\u001b[0m\u001b[0mcpol_Radar\u001b[0m\u001b[0;34m)\u001b[0m\u001b[0;34m\u001b[0m\u001b[0m\n\u001b[1;32m      4\u001b[0m \u001b[0mfig\u001b[0m\u001b[0;34m,\u001b[0m \u001b[0max\u001b[0m \u001b[0;34m=\u001b[0m \u001b[0mplt\u001b[0m\u001b[0;34m.\u001b[0m\u001b[0msubplots\u001b[0m\u001b[0;34m(\u001b[0m\u001b[0;36m1\u001b[0m\u001b[0;34m,\u001b[0m \u001b[0;36m2\u001b[0m\u001b[0;34m,\u001b[0m \u001b[0mfigsize\u001b[0m\u001b[0;34m=\u001b[0m\u001b[0;34m(\u001b[0m\u001b[0;36m8\u001b[0m\u001b[0;34m,\u001b[0m \u001b[0;36m6\u001b[0m\u001b[0;34m)\u001b[0m\u001b[0;34m)\u001b[0m\u001b[0;34m\u001b[0m\u001b[0m\n\u001b[1;32m      5\u001b[0m cpol_map.plot_ppi_map('reflectivity', sweep=1, vmin=0., vmax=60., \n",
      "\u001b[0;32m/home/rjackson/.local/lib/python3.5/site-packages/pyart/io/auto_read.py\u001b[0m in \u001b[0;36mread\u001b[0;34m(filename, use_rsl, **kwargs)\u001b[0m\n\u001b[1;32m     81\u001b[0m \u001b[0;34m\u001b[0m\u001b[0m\n\u001b[1;32m     82\u001b[0m     \"\"\"\n\u001b[0;32m---> 83\u001b[0;31m     \u001b[0mfiletype\u001b[0m \u001b[0;34m=\u001b[0m \u001b[0mdetermine_filetype\u001b[0m\u001b[0;34m(\u001b[0m\u001b[0mfilename\u001b[0m\u001b[0;34m)\u001b[0m\u001b[0;34m\u001b[0m\u001b[0m\n\u001b[0m\u001b[1;32m     84\u001b[0m \u001b[0;34m\u001b[0m\u001b[0m\n\u001b[1;32m     85\u001b[0m     \u001b[0;31m# Bzip, uncompress and see if we can determine the type\u001b[0m\u001b[0;34m\u001b[0m\u001b[0;34m\u001b[0m\u001b[0m\n",
      "\u001b[0;32m/home/rjackson/.local/lib/python3.5/site-packages/pyart/io/auto_read.py\u001b[0m in \u001b[0;36mdetermine_filetype\u001b[0;34m(filename)\u001b[0m\n\u001b[1;32m    189\u001b[0m     \u001b[0;31m# read the first 12 bytes from the file\u001b[0m\u001b[0;34m\u001b[0m\u001b[0;34m\u001b[0m\u001b[0m\n\u001b[1;32m    190\u001b[0m     \u001b[0;32mtry\u001b[0m\u001b[0;34m:\u001b[0m\u001b[0;34m\u001b[0m\u001b[0m\n\u001b[0;32m--> 191\u001b[0;31m         \u001b[0mf\u001b[0m \u001b[0;34m=\u001b[0m \u001b[0mopen\u001b[0m\u001b[0;34m(\u001b[0m\u001b[0mfilename\u001b[0m\u001b[0;34m,\u001b[0m \u001b[0;34m'rb'\u001b[0m\u001b[0;34m)\u001b[0m\u001b[0;34m\u001b[0m\u001b[0m\n\u001b[0m\u001b[1;32m    192\u001b[0m         \u001b[0mbegin\u001b[0m \u001b[0;34m=\u001b[0m \u001b[0mf\u001b[0m\u001b[0;34m.\u001b[0m\u001b[0mread\u001b[0m\u001b[0;34m(\u001b[0m\u001b[0;36m12\u001b[0m\u001b[0;34m)\u001b[0m\u001b[0;34m\u001b[0m\u001b[0m\n\u001b[1;32m    193\u001b[0m         \u001b[0mf\u001b[0m\u001b[0;34m.\u001b[0m\u001b[0mclose\u001b[0m\u001b[0;34m(\u001b[0m\u001b[0;34m)\u001b[0m\u001b[0;34m\u001b[0m\u001b[0m\n",
      "\u001b[0;31mFileNotFoundError\u001b[0m: [Errno 2] No such file or directory: 'data/noxp_rhi_140610232635.RAWHJFH'"
     ]
    }
   ],
   "source": [
    "# %load solution.py\n",
    "cpol_Radar = pyart.io.read('data/Gunn_pt_20060120005000ppi.nc')\n",
    "cpol_map = pyart.graph.RadarMapDisplayCartopy(cpol_Radar)\n",
    "fig, ax = plt.subplots(1, 2, figsize=(8, 6))\n",
    "cpol_map.plot_ppi_map('reflectivity', sweep=1, vmin=0., vmax=., \n",
    "                      ax=ax[0], resolution='10m', cmap=pyart.graph.cm.NWSRef)\n",
    "fig, ax = plt.subplots(1, 2, figsize=(8, 6))\n",
    "cpol_map.plot_ppi_map('corrected_velocity', sweep=1, vmin=-20, vmax=20.,\n",
    "                      ax=ax[1], resolution='10m', cmap=pyart.graph.cm.NWSVel)"
   ]
  },
  {
   "cell_type": "code",
   "execution_count": null,
   "metadata": {
    "collapsed": true
   },
   "outputs": [],
   "source": []
  }
 ],
 "metadata": {
  "anaconda-cloud": {},
  "kernelspec": {
   "display_name": "Python [default]",
   "language": "python",
   "name": "python3"
  },
  "language_info": {
   "codemirror_mode": {
    "name": "ipython",
    "version": 3
   },
   "file_extension": ".py",
   "mimetype": "text/x-python",
   "name": "python",
   "nbconvert_exporter": "python",
   "pygments_lexer": "ipython3",
   "version": "3.5.2"
  }
 },
 "nbformat": 4,
 "nbformat_minor": 0
}
