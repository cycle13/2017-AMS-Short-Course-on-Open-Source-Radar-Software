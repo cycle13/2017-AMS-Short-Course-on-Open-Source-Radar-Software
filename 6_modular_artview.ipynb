{
 "cells": [
  {
   "cell_type": "code",
   "execution_count": 1,
   "metadata": {},
   "outputs": [
    {
     "name": "stdout",
     "output_type": "stream",
     "text": [
      "\n",
      "## You are using the Python ARM Radar Toolkit (Py-ART), an open source\n",
      "## library for working with weather radar data.\n",
      "##\n",
      "## If you use this software to prepare a publication, please cite:\n",
      "##\n",
      "##     JJ Helmus and SM Collis, JORS 2016, doi: 10.5334/jors.119 \n",
      "Changed Scan types, reinitializing\n"
     ]
    },
    {
     "data": {
      "text/plain": [
       "0"
      ]
     },
     "execution_count": 1,
     "metadata": {},
     "output_type": "execute_result"
    }
   ],
   "source": [
    "#import\n",
    "import sys\n",
    "from artview import core, components, plugins, view\n",
    "import pyart\n",
    "\n",
    "# start pyqt\n",
    "app = core.QtWidgets.QApplication(sys.argv)\n",
    "\n",
    "#open radar\n",
    "radar = pyart.io.read(\"/home/gama/artview/data/example_radar2.nc\")\n",
    "\n",
    "#start RadarDisplay\n",
    "plot1 = components.RadarDisplay(core.Variable(radar),name=\"Display\")\n",
    "\n",
    "#start PyQt loop\n",
    "app.exec_()"
   ]
  },
  {
   "cell_type": "code",
   "execution_count": 3,
   "metadata": {},
   "outputs": [
    {
     "name": "stdout",
     "output_type": "stream",
     "text": [
      "Opening file /home/gama/artview/data/example_mdv_ppi.mdv\n",
      "Changed Scan types, reinitializing\n"
     ]
    },
    {
     "data": {
      "text/plain": [
       "0"
      ]
     },
     "execution_count": 3,
     "metadata": {},
     "output_type": "execute_result"
    }
   ],
   "source": [
    "#open navigator\n",
    "navigator = components.FileNavigator()\n",
    "radar = navigator.Vradar.value\n",
    "    \n",
    "#start RadarDisplay\n",
    "plot1 = components.RadarDisplay(core.Variable(radar),name=\"Display\")\n",
    "    \n",
    "#start PyQt loop\n",
    "app.exec_()"
   ]
  },
  {
   "cell_type": "code",
   "execution_count": 4,
   "metadata": {},
   "outputs": [
    {
     "name": "stdout",
     "output_type": "stream",
     "text": [
      "Opening file /home/gama/artview/data/example_radar2.nc\n",
      "Changed Scan types, reinitializing\n",
      "Opening file /home/gama/artview/data/example_cfradial_rhi.nc\n",
      "Changed Scan types, reinitializing\n"
     ]
    },
    {
     "data": {
      "text/plain": [
       "0"
      ]
     },
     "execution_count": 4,
     "metadata": {},
     "output_type": "execute_result"
    }
   ],
   "source": [
    "#open navigator\n",
    "navigator = components.FileNavigator(filename=\"/home/gama/artview/data/example_radar2.nc\")\n",
    "    \n",
    "#start RadarDisplay\n",
    "plot1 = components.RadarDisplay(navigator.Vradar,name=\"Display\")\n",
    "    \n",
    "#start PyQt loop\n",
    "app.exec_()"
   ]
  },
  {
   "cell_type": "code",
   "execution_count": 7,
   "metadata": {},
   "outputs": [
    {
     "data": {
      "text/plain": [
       "0"
      ]
     },
     "execution_count": 7,
     "metadata": {},
     "output_type": "execute_result"
    }
   ],
   "source": [
    "navigator = components.FileNavigator(filename=\"/home/gama/artview/data/example_radar2.nc\")\n",
    "plot1 = components.RadarDisplay(navigator.Vradar,name=\"Display\")\n",
    "   \n",
    "linking = components.LinkSharedVariables()\n",
    "\n",
    "app.exec_()"
   ]
  },
  {
   "cell_type": "code",
   "execution_count": 8,
   "metadata": {},
   "outputs": [
    {
     "name": "stdout",
     "output_type": "stream",
     "text": [
      "Opening file /home/gama/artview/data/example_cfradial_ppi.nc\n",
      "Changed Scan types, reinitializing\n",
      "Changed Scan types, reinitializing\n"
     ]
    },
    {
     "data": {
      "text/plain": [
       "0"
      ]
     },
     "execution_count": 8,
     "metadata": {},
     "output_type": "execute_result"
    }
   ],
   "source": [
    "navigator = components.FileNavigator(filename=\"/home/gama/artview/data/example_radar2.nc\")\n",
    "\n",
    "plot1 = components.RadarDisplay(navigator.Vradar,name=\"Display 1\")\n",
    "plot2 = components.RadarDisplay(navigator.Vradar,name=\"Display 2\")\n",
    "\n",
    "linking = components.LinkSharedVariables()\n",
    "app.exec_()"
   ]
  },
  {
   "cell_type": "code",
   "execution_count": 11,
   "metadata": {},
   "outputs": [
    {
     "name": "stdout",
     "output_type": "stream",
     "text": [
      "Opening file /home/gama/artview/data/example_radar2.nc\n",
      "Changed Scan types, reinitializing\n",
      "Changed Scan types, reinitializing\n"
     ]
    },
    {
     "data": {
      "text/plain": [
       "0"
      ]
     },
     "execution_count": 11,
     "metadata": {},
     "output_type": "execute_result"
    }
   ],
   "source": [
    "navigator = components.FileNavigator(filename=\"/home/gama/artview/data/example_radar2.nc\")\n",
    "\n",
    "plot1 = components.RadarDisplay(navigator.Vradar,name=\"Display 1\")\n",
    "plot2 = components.RadarDisplay(navigator.Vradar,name=\"Display 2\")\n",
    "\n",
    "linking = components.LinkSharedVariables()\n",
    "\n",
    "window = components.Window()\n",
    "\n",
    "window.splitHorizontal()\n",
    "window.splitVertical()\n",
    "\n",
    "window.layoutTree[(0,1,0)].addTab(linking,linking.name)\n",
    "window.layoutTree[(0,1,0)].isClosable = False\n",
    "window.layoutTree[(0,0)].addTab(navigator,navigator.name)\n",
    "window.layoutTree[(0,0)].isClosable = False\n",
    "window.layoutTree[(0,0)].tabBar().setVisible(False)\n",
    "window.layoutTree[(0,1,1)].addTab(plot1,plot1.name)\n",
    "window.layoutTree[(0,1,1)].addTab(plot2,plot2.name)\n",
    "\n",
    "app.exec_()"
   ]
  },
  {
   "cell_type": "code",
   "execution_count": 2,
   "metadata": {},
   "outputs": [
    {
     "name": "stdout",
     "output_type": "stream",
     "text": [
      "You used ARTView. What you think and what you need of ARTView? Send your comment to artview-users@googlegroups.com\n"
     ]
    }
   ],
   "source": [
    "try:\n",
    "    del app\n",
    "except:\n",
    "    pass\n",
    "\n",
    "import artview\n",
    "artview.scripts.layout()"
   ]
  },
  {
   "cell_type": "code",
   "execution_count": null,
   "metadata": {
    "collapsed": true
   },
   "outputs": [],
   "source": []
  }
 ],
 "metadata": {
  "kernelspec": {
   "display_name": "Python 3",
   "language": "python",
   "name": "python3"
  },
  "language_info": {
   "codemirror_mode": {
    "name": "ipython",
    "version": 3
   },
   "file_extension": ".py",
   "mimetype": "text/x-python",
   "name": "python",
   "nbconvert_exporter": "python",
   "pygments_lexer": "ipython3",
   "version": "3.5.3"
  }
 },
 "nbformat": 4,
 "nbformat_minor": 2
}
